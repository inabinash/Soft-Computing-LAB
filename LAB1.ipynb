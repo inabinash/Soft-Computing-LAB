{
 "cells": [
  {
   "cell_type": "markdown",
   "metadata": {},
   "source": [
    "## Design Perceptron For AND , OR , NAND , NOR , XNOR and XOR gates\n"
   ]
  },
  {
   "cell_type": "code",
   "execution_count": 4,
   "metadata": {},
   "outputs": [],
   "source": [
    "import numpy as np"
   ]
  },
  {
   "cell_type": "code",
   "execution_count": 33,
   "metadata": {},
   "outputs": [],
   "source": [
    "class Perceptron:\n",
    "    def __init__(self):\n",
    "        self.weights = None\n",
    "        self.bias = 0\n",
    "        \n",
    "    def initialize(self, n_features):\n",
    "        self.weights = np.zeros(n_features)\n",
    "        self.bias = 0\n",
    "        return\n",
    "        \n",
    "    def predict(self, inputs):\n",
    "        activation = np.dot(inputs, self.weights) + self.bias\n",
    "        return 1 if activation > 0 else 0\n",
    "\n",
    "    def train(self, X, y, epochs=100, learning_rate=0.1):\n",
    "        self.initialize(X.shape[1])\n",
    "        for epoch in range(epochs):\n",
    "            for inputs, label in zip(X, y):\n",
    "                y_pred = self.predict(inputs)\n",
    "                error = label - y_pred\n",
    "                self.weights += learning_rate * error * inputs\n",
    "                self.bias += learning_rate * error\n",
    "        return"
   ]
  },
  {
   "cell_type": "markdown",
   "metadata": {},
   "source": [
    "## AND Gate"
   ]
  },
  {
   "cell_type": "code",
   "execution_count": 6,
   "metadata": {},
   "outputs": [
    {
     "name": "stdout",
     "output_type": "stream",
     "text": [
      "AND(1,0)=0\n",
      "AND(1,1)=1\n",
      "AND(0,0)=0\n",
      "AND(0,1)=0\n"
     ]
    }
   ],
   "source": [
    "X_train = np.array([[0, 0], [0, 1], [1, 0], [1, 1]])\n",
    "y_train = np.array([0, 0, 0, 1])\n",
    "\n",
    "p = Perceptron()\n",
    "p.train(X_train, y_train, epochs=100, learning_rate=0.1)\n",
    "\n",
    "X = np.array([[1, 1, 0, 0], [0, 1, 0, 1]]) \n",
    "for i in range(len(X[0])):\n",
    "    print(f\"AND({X[0][i]},{X[1][i]})={p.predict(np.array([X[0][i],X[1][i]]))}\")"
   ]
  },
  {
   "cell_type": "markdown",
   "metadata": {},
   "source": [
    "## OR Gate"
   ]
  },
  {
   "cell_type": "code",
   "execution_count": 7,
   "metadata": {},
   "outputs": [
    {
     "name": "stdout",
     "output_type": "stream",
     "text": [
      "OR(1,0)=1\n",
      "OR(1,1)=1\n",
      "OR(0,0)=0\n",
      "OR(0,1)=1\n"
     ]
    }
   ],
   "source": [
    "X_train = np.array([[0, 0], [0, 1], [1, 0], [1, 1]])\n",
    "y_train = np.array([0, 1, 1, 1])\n",
    "\n",
    "p = Perceptron()\n",
    "p.train(X_train, y_train, epochs=100, learning_rate=0.1)\n",
    "\n",
    "X = np.array([[1, 1, 0, 0], [0, 1, 0, 1]]) \n",
    "for i in range(len(X[0])):\n",
    "    print(f\"OR({X[0][i]},{X[1][i]})={p.predict(np.array([X[0][i],X[1][i]]))}\")"
   ]
  },
  {
   "cell_type": "markdown",
   "metadata": {},
   "source": [
    "## NAND Gate"
   ]
  },
  {
   "cell_type": "code",
   "execution_count": 19,
   "metadata": {},
   "outputs": [
    {
     "name": "stdout",
     "output_type": "stream",
     "text": [
      "NAND(1,0)=1\n",
      "NAND(1,1)=0\n",
      "NAND(0,0)=1\n",
      "NAND(0,1)=1\n"
     ]
    }
   ],
   "source": [
    "X_train = np.array([[0, 0], [0, 1], [1, 0], [1, 1]])\n",
    "y_train = np.array([1, 1, 1, 0])\n",
    "\n",
    "p = Perceptron()\n",
    "p.train(X_train, y_train, epochs=100, learning_rate=0.1)\n",
    "\n",
    "X = np.array([[1, 1, 0, 0], [0, 1, 0, 1]]) \n",
    "for i in range(len(X[0])):\n",
    "    print(f\"NAND({X[0][i]},{X[1][i]})={p.predict(np.array([X[0][i],X[1][i]]))}\")"
   ]
  },
  {
   "cell_type": "code",
   "execution_count": 22,
   "metadata": {},
   "outputs": [
    {
     "data": {
      "text/plain": [
       "array([-0.1, -0.1])"
      ]
     },
     "execution_count": 22,
     "metadata": {},
     "output_type": "execute_result"
    }
   ],
   "source": [
    "p.weights"
   ]
  },
  {
   "cell_type": "markdown",
   "metadata": {},
   "source": [
    "# NOR Gate"
   ]
  },
  {
   "cell_type": "code",
   "execution_count": 24,
   "metadata": {},
   "outputs": [
    {
     "name": "stdout",
     "output_type": "stream",
     "text": [
      "NOR(1,0)=0\n",
      "NOR(1,1)=0\n",
      "NOR(0,0)=1\n",
      "NOR(0,1)=0\n"
     ]
    }
   ],
   "source": [
    "X_train = np.array([[0, 0], [0, 1], [1, 0], [1, 1]])\n",
    "y_train = np.array([1, 0, 0, 0])\n",
    "\n",
    "p = Perceptron()\n",
    "p.train(X_train, y_train, epochs=100, learning_rate=0.1)\n",
    "\n",
    "X = np.array([[1, 1, 0, 0], [0, 1, 0, 1]]) \n",
    "for i in range(len(X[0])):\n",
    "    print(f\"NOR({X[0][i]},{X[1][i]})={p.predict(np.array([X[0][i],X[1][i]]))}\")"
   ]
  },
  {
   "cell_type": "markdown",
   "metadata": {},
   "source": [
    "## XNOR Gate"
   ]
  },
  {
   "cell_type": "code",
   "execution_count": 26,
   "metadata": {},
   "outputs": [],
   "source": [
    "def unitStep(v):\n",
    "\tif v >= 0:\n",
    "\t\treturn 1\n",
    "\telse:\n",
    "\t\treturn 0"
   ]
  },
  {
   "cell_type": "code",
   "execution_count": 27,
   "metadata": {},
   "outputs": [],
   "source": [
    "def perceptronModel(x, w, b):\n",
    "\tv = np.dot(w, x) + b\n",
    "\ty = unitStep(v)\n",
    "\treturn y\n"
   ]
  },
  {
   "cell_type": "code",
   "execution_count": 28,
   "metadata": {},
   "outputs": [],
   "source": [
    "def NOT_logicFunction(x):\n",
    "\twNOT = -1\n",
    "\tbNOT = 0.5\n",
    "\treturn perceptronModel(x, wNOT, bNOT)"
   ]
  },
  {
   "cell_type": "code",
   "execution_count": 29,
   "metadata": {},
   "outputs": [],
   "source": [
    "def AND_logicFunction(x):\n",
    "    w = np.array([1, 1])\n",
    "    bAND = -1.5\n",
    "    return perceptronModel(x, w, bAND)"
   ]
  },
  {
   "cell_type": "code",
   "execution_count": 30,
   "metadata": {},
   "outputs": [],
   "source": [
    "def OR_logicFunction(x):\n",
    "    w = np.array([1, 1])\n",
    "    bOR = -0.5\n",
    "    return perceptronModel(x, w, bOR)"
   ]
  },
  {
   "cell_type": "code",
   "execution_count": 31,
   "metadata": {},
   "outputs": [],
   "source": [
    "def XNOR_logicFunction(x):\n",
    "    y1 = OR_logicFunction(x)\n",
    "    y2 = AND_logicFunction(x)\n",
    "    y3 = NOT_logicFunction(y1)\n",
    "    final_x = np.array([y2, y3])\n",
    "    finalOutput = OR_logicFunction(final_x)\n",
    "    return finalOutput"
   ]
  },
  {
   "cell_type": "code",
   "execution_count": 32,
   "metadata": {},
   "outputs": [
    {
     "name": "stdout",
     "output_type": "stream",
     "text": [
      "XNOR(1,0)=0\n",
      "XNOR(1,1)=1\n",
      "XNOR(0,0)=1\n",
      "XNOR(0,1)=0\n"
     ]
    }
   ],
   "source": [
    "X = np.array([[1, 1, 0, 0], [0, 1, 0, 1]]) \n",
    "for i in range(len(X[0])):\n",
    "    print(f\"XNOR({X[0][i]},{X[1][i]})={XNOR_logicFunction(np.array([X[0][i],X[1][i]]))}\")"
   ]
  },
  {
   "cell_type": "markdown",
   "metadata": {},
   "source": [
    "## XOR Gate"
   ]
  },
  {
   "cell_type": "code",
   "execution_count": 17,
   "metadata": {},
   "outputs": [],
   "source": [
    "def XOR_logicFunction(x):\n",
    "    y1 = AND_logicFunction(x)\n",
    "    y2 = OR_logicFunction(x)\n",
    "    y3 = NOT_logicFunction(y1)\n",
    "    final_x = np.array([y2, y3])\n",
    "    finalOutput = AND_logicFunction(final_x)\n",
    "    return finalOutput"
   ]
  },
  {
   "cell_type": "code",
   "execution_count": 18,
   "metadata": {},
   "outputs": [
    {
     "name": "stdout",
     "output_type": "stream",
     "text": [
      "XOR(1,0)=1\n",
      "XOR(1,1)=0\n",
      "XOR(0,0)=0\n",
      "XOR(0,1)=1\n"
     ]
    }
   ],
   "source": [
    "X = np.array([[1, 1, 0, 0], [0, 1, 0, 1]]) \n",
    "for i in range(len(X[0])):\n",
    "    print(f\"XOR({X[0][i]},{X[1][i]})={XOR_logicFunction(np.array([X[0][i],X[1][i]]))}\")"
   ]
  },
  {
   "cell_type": "code",
   "execution_count": null,
   "metadata": {},
   "outputs": [],
   "source": []
  }
 ],
 "metadata": {
  "kernelspec": {
   "display_name": "Python 3.11.4 ('base')",
   "language": "python",
   "name": "python3"
  },
  "language_info": {
   "codemirror_mode": {
    "name": "ipython",
    "version": 3
   },
   "file_extension": ".py",
   "mimetype": "text/x-python",
   "name": "python",
   "nbconvert_exporter": "python",
   "pygments_lexer": "ipython3",
   "version": "3.11.4"
  },
  "vscode": {
   "interpreter": {
    "hash": "dc07d24e2f18896857f0b2a651fe84ba40ce7b297e58d8804a308c8039f752a6"
   }
  }
 },
 "nbformat": 4,
 "nbformat_minor": 2
}
